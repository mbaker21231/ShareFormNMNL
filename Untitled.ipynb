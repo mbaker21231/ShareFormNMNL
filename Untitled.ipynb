{
 "cells": [
  {
   "cell_type": "markdown",
   "id": "cdf5030e",
   "metadata": {},
   "source": [
    "# Choosing Nests\n",
    "\n",
    "We are using this paper to figure out how to choose nests in a nested multinomial logit. First things first relative choice probabilities of items in a given nest:\n",
    "\n",
    "$$\n",
    "r_A(A',B')=\\frac{p(A',A)}{p(B',A)}\n",
    "$$\n",
    "\n",
    "which means the likelihood that $A'$ is chosen divided by the likelihood that $B'$ is chosen when they are in the same nest.(These are empirical frequencies - while the paper distinguishes between these and theoretical, mean frequencies, we don't seem to need to do this.\n",
    "\n",
    "Note also what $p(A,B)$ is - it is the probability that $A$ is chosen (or some entity within this subset), given a choice has narrowed us down to $B$. \n",
    "\n",
    "\n",
    "\n",
    "The nest selection problem requires:\n",
    "\n",
    "$$\n",
    "\\min_{\\mathcal{Y} \\in \\mathcal{X}} D_1(\\mathcal{Y}) + D_2(\\mathcal{Y})\n",
    "$$\n",
    "\n",
    "where \n",
    "\n",
    "$$\n",
    "D_1(\\mathcal{Y}) = \\frac{\\sum_{Y\\in\\mathcal{Y}}\\sum_{A,B \\in \\mathcal{A},a,b\\in A \\cap B \\cap Y}\\log(r_A(a,b)) - \\log(r_B(a,b)))^2}{\\sum_{Y\\in\\mathcal{Y}}|\\{(A,B,a,b)|a,b \\in A \\cap B \\cap Y|\\}}\n",
    "$$\n",
    "\n",
    "\n",
    "and\n",
    "\n",
    "$$\n",
    "D_2(\\mathcal{Y}) = \\frac{\\sum_{Y,Y'\\in\\mathcal{Y}}\\sum_{A,B \\in \\mathcal{A}:A \\cap Y = B \\cap Y,A \\cap Y' = B\\cap Y'}\\log(r_A(Y,Y')) - \\log(r_B(Y,Y')))^2}{\\sum_{Y,Y'\\in\\mathcal{Y}}|\\{(A,B)|A\\cap Y=B \\cap Y,A \\cap Y'=B\\cap Y'\\}|}\n",
    "$$"
   ]
  },
  {
   "cell_type": "markdown",
   "id": "f3d16b30",
   "metadata": {},
   "source": [
    "We are thinking quite a bit about how to calculate these measures for given data, so let's see if we can put the rubber to the road and see what's going on..."
   ]
  },
  {
   "cell_type": "markdown",
   "id": "ff1d7649",
   "metadata": {},
   "source": [
    "cwd"
   ]
  },
  {
   "cell_type": "code",
   "execution_count": 1,
   "id": "be4bf308",
   "metadata": {},
   "outputs": [
    {
     "ename": "NameError",
     "evalue": "name 'cwd' is not defined",
     "output_type": "error",
     "traceback": [
      "\u001b[1;31m---------------------------------------------------------------------------\u001b[0m",
      "\u001b[1;31mNameError\u001b[0m                                 Traceback (most recent call last)",
      "\u001b[1;32m~\\AppData\\Local\\Temp\\ipykernel_43400\\3559788311.py\u001b[0m in \u001b[0;36m<module>\u001b[1;34m\u001b[0m\n\u001b[1;32m----> 1\u001b[1;33m \u001b[0mcwd\u001b[0m\u001b[1;33m\u001b[0m\u001b[1;33m\u001b[0m\u001b[0m\n\u001b[0m",
      "\u001b[1;31mNameError\u001b[0m: name 'cwd' is not defined"
     ]
    }
   ],
   "source": [
    "cwd"
   ]
  },
  {
   "cell_type": "code",
   "execution_count": 5,
   "id": "dfc8fc00",
   "metadata": {},
   "outputs": [
    {
     "name": "stdout",
     "output_type": "stream",
     "text": [
      "[WinError 2] The system cannot find the file specified: 'C:\\\\Users\\\\mjbaker\\\\OneDrive - CUNY\\\\Documents\\\\github\\\\ShareFormNML\\\\\\\\'\n",
      "C:\\Users\\mjbaker\n"
     ]
    }
   ],
   "source": [
    "cd \"C:\\Users\\mjbaker\\OneDrive - CUNY\\Documents\\github\\ShareFormNML\\\\\""
   ]
  },
  {
   "cell_type": "code",
   "execution_count": 6,
   "id": "b11dd611",
   "metadata": {},
   "outputs": [
    {
     "data": {
      "text/plain": [
       "<function dir>"
      ]
     },
     "execution_count": 6,
     "metadata": {},
     "output_type": "execute_result"
    }
   ],
   "source": [
    "dir"
   ]
  },
  {
   "cell_type": "code",
   "execution_count": 7,
   "id": "59321905",
   "metadata": {},
   "outputs": [
    {
     "data": {
      "text/plain": [
       "Type help() for interactive help, or help(object) for help about object."
      ]
     },
     "execution_count": 7,
     "metadata": {},
     "output_type": "execute_result"
    }
   ],
   "source": [
    "help"
   ]
  },
  {
   "cell_type": "code",
   "execution_count": null,
   "id": "2d8e1aac",
   "metadata": {},
   "outputs": [],
   "source": []
  }
 ],
 "metadata": {
  "kernelspec": {
   "display_name": "Python 3 (ipykernel)",
   "language": "python",
   "name": "python3"
  },
  "language_info": {
   "codemirror_mode": {
    "name": "ipython",
    "version": 3
   },
   "file_extension": ".py",
   "mimetype": "text/x-python",
   "name": "python",
   "nbconvert_exporter": "python",
   "pygments_lexer": "ipython3",
   "version": "3.8.12"
  }
 },
 "nbformat": 4,
 "nbformat_minor": 5
}
