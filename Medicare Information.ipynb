{
 "cells": [
  {
   "cell_type": "markdown",
   "metadata": {},
   "source": [
    "# Medicare Notes\n",
    "\n",
    "- So, what is medicare? It is health care that is available to everyone 65 and older, and also some younger people with disabilities. \n",
    "\n",
    "- It does not cost a premium, generally, for people over 65. \n",
    "\n",
    "- It consists of Part A (Hospital Insurance) and Part B (Medicare Insurance).\n",
    "  - Part A is the usual in-hospital visit stuff.\n",
    "  - Part B is the outpatient stuff."
   ]
  },
  {
   "cell_type": "markdown",
   "metadata": {},
   "source": [
    "# Medicare Advantage\n",
    "\n",
    "Medicare Advantage programs provide supplemental benefits. There are many types of MA plans:\n",
    "\n",
    "- HMO, PPO, PFFS (private fee for service), SNP. \n",
    "- One buys these to get additional coverage, I take it (or maybe it functions as a way to pay more than medicare allows.\n",
    "\n",
    "Enrollment in different plans differs. From the [Centers for Medicare and Medicaid Services](http://www.cms.gov), one can get plan statistics that is, enrollment in medicare advantage plans. \n",
    "\n",
    "Here are some links from which one can get penetration data and then plan choice data:"
   ]
  },
  {
   "cell_type": "code",
   "execution_count": 1,
   "metadata": {},
   "outputs": [],
   "source": [
    "import numpy as np\n",
    "import os\n",
    "import pandas as pd\n",
    "import requests\n",
    "import time\n",
    "\n",
    "import matplotlib.pyplot as plt\n",
    "\n",
    "from zipfile import ZipFile\n",
    "\n",
    "%matplotlib inline"
   ]
  },
  {
   "cell_type": "markdown",
   "metadata": {},
   "source": [
    "# Downloading Zip Files\n",
    "\n",
    "To find this data via browsing, the penetration data is [here](https://www.cms.gov/Research-Statistics-Data-and-Systems/Statistics-Trends-and-Reports/MCRAdvPartDEnrolData/MA-State-County-Penetration.html), while the enrollment in specific plans is [here](https://www.cms.gov/Research-Statistics-Data-and-Systems/Statistics-Trends-and-Reports/MCRAdvPartDEnrolData/Monthly-MA-Enrollment-by-State-County-Contract.html)\n",
    "\n",
    "## Additional Information\n",
    "\n",
    "### Choice/Enrollment Data\n",
    "\n",
    "In the choice data set, we have data by State, County, and Contract. The organization types include:\n",
    "\n",
    "1. Local CCP\n",
    "2. Regional CCP\n",
    "3. MSA\n",
    "4. PFFS\n",
    "5. Demonstrations\n",
    "6. National PACE\n",
    "7. 1976 Cost\n",
    "8. HCCP - 1933 Cost\n",
    "9. Employer Direct PFFS\n",
    "\n",
    "These are the type of contract that the organization holds with the CMS. So, let's think about what each of these is. \n",
    "\n",
    "### Penetration Data\n",
    "\n",
    "Here, Eligibles include the number of medicare eligibles in the county. Enrolled claims to be the number of _PDP enrollees_ in the county, which we should be careful about. I'm thinking that the number of enrollees in a medicare advantage plan should be computed from the enrollment data, not the penetration data, which can be used to give us the share of medicare receivers who are enrolled in some plan.\n"
   ]
  },
  {
   "cell_type": "markdown",
   "metadata": {},
   "source": [
    "# Plan information and Background\n",
    "\n",
    "The Balanced Budget Act (BBA) of 1997 established Part C of the Medicare program. The BBA authorized CMS (Center for Medicare and Medicaid Services) to contract with public or private organizations, including traditional and new options. Don't confuse this with the MMA (Medicare Prescription Drug, Improvement, and Modernization Act of 2003).\n",
    "\n",
    "Four types of plans:\n",
    "\n",
    "1. Coordinated Care Plans (CCPs) - HMOs with or without Point-of-Service options, PSOs, and PPOs.\n",
    "2. Medicare Medical Savings Account (MSAs) plans\n",
    "3. Private Fee for Service Plans\n",
    "4. Religeous Fraternal Brotherhood Societies\n",
    "\n",
    "But 1,2, and 3 are the big three. \n",
    "\n",
    "### CCPs \n",
    "A network of providers that are under contract to deliver benefit package. Includes: \n",
    "\n",
    "- Health Maintainance organizations (HMOs)\n",
    "- Preferred Provider Organizations (PPOs)\n",
    "- Regional PPOs - cover larger regions than regular PPOs to help serve rural folks\n",
    "\n",
    "### MSAs\n",
    "\n",
    "These are plans with a high deductible, and a savings account. There are no premiums. The savings account helps the buyer save or plan for expenses. Once the deductible is reached, the service kicks in.\n",
    "\n",
    "### PFSs\n",
    "\n",
    "Other plans, which aren't like the first three. At least we have a reasonable division of the three.\n",
    "\n"
   ]
  },
  {
   "cell_type": "markdown",
   "metadata": {},
   "source": [
    "The following plan types appear in the data: 1876 Cost, HCPP - 1833 Cost, HMO/HMOPOS, Local PPO, MSA, Medicare-Medicaid Plan HMO/HMOPOS, National PACE, PFFS, Regional PPO. How should we group these? \n",
    "\n",
    "They are more or less obvious except for the National PACE and 1876 cost"
   ]
  },
  {
   "cell_type": "markdown",
   "metadata": {},
   "source": [
    "# What is Medicare Advantage?\n",
    "\n",
    "Medicare advantage plans are where benefits are provided by private companies, whom the government pays to administer the plan. They cost more but presumably provide more stuff.\n",
    "\n",
    "It turns out that there is quite a bit of data from the time period June 2008 up until the present. They all basically have the handle as below up until `Downloads/year/`. \n"
   ]
  },
  {
   "cell_type": "code",
   "execution_count": 4,
   "metadata": {},
   "outputs": [],
   "source": [
    "pen_link = ''\n",
    "pen_link = 'https://www.cms.gov/Research-Statistics-Data-and-Systems/Statistics-Trends-and-Reports/'\n",
    "pen_link = pen_link + 'MCRAdvPartDEnrolData/Downloads/2018/Dec/State-County-Penetration-MA-2018-12.zip'\n",
    "\n",
    "pen_path = 'C://Users//mjbaker//Downloads//penetration.zip'\n",
    "#pen_path = 'C://Users//matthew//Downloads//penetration.zip'\n",
    "\n",
    "r = requests.get(pen_link)\n",
    "with open(pen_path, 'wb') as code:\n",
    "    code.write(r.content)"
   ]
  },
  {
   "cell_type": "markdown",
   "metadata": {},
   "source": [
    "The following handles apply up through November, 2011. At which point, the handle switches."
   ]
  },
  {
   "cell_type": "code",
   "execution_count": 5,
   "metadata": {},
   "outputs": [],
   "source": [
    "handles_1 = []\n",
    "months = ['January', 'February', 'March', 'April', 'May', 'June', 'July', 'August', \n",
    "          'September', 'October', 'November', 'December']\n",
    "for year in np.arange(2008, 2012):\n",
    "    for month in months:\n",
    "        handle = '/' + str(year) + '/MA-Penetration-' + month + '-' + str(year) + '.zip'\n",
    "        handles_1.append(handle)"
   ]
  },
  {
   "cell_type": "markdown",
   "metadata": {},
   "source": [
    "After 11-11, the handle takes on the form:"
   ]
  },
  {
   "cell_type": "code",
   "execution_count": 6,
   "metadata": {},
   "outputs": [
    {
     "data": {
      "text/plain": [
       "'State_County_Penetration_MA_2011_12.zip'"
      ]
     },
     "execution_count": 6,
     "metadata": {},
     "output_type": "execute_result"
    }
   ],
   "source": [
    "newhandle = 'State_County_Penetration_MA_2011_12.zip'\n",
    "newhandle"
   ]
  },
  {
   "cell_type": "markdown",
   "metadata": {},
   "source": [
    "For the three periods 2011-12, 2012-1, 2012-2, the format is as above, but now the year appears as a subdirectory in front of the handle for the sole month of March, 2012, we get: "
   ]
  },
  {
   "cell_type": "code",
   "execution_count": 7,
   "metadata": {},
   "outputs": [
    {
     "data": {
      "text/plain": [
       "'/2012/State_County_Penetration_MA_2012_03.zip'"
      ]
     },
     "execution_count": 7,
     "metadata": {},
     "output_type": "execute_result"
    }
   ],
   "source": [
    "newhandle = '/2012/State_County_Penetration_MA_2012_03.zip'\n",
    "newhandle"
   ]
  },
  {
   "cell_type": "markdown",
   "metadata": {},
   "source": [
    "In April, the format changes again..."
   ]
  },
  {
   "cell_type": "code",
   "execution_count": 8,
   "metadata": {},
   "outputs": [],
   "source": [
    "newhandle = '/2012/State-County-Penetration-MA-2012-04.zip'"
   ]
  },
  {
   "cell_type": "code",
   "execution_count": 11,
   "metadata": {},
   "outputs": [],
   "source": [
    "penet = ''\n",
    "penet = 'https://www.cms.gov/Research-Statistics-Data-and-Systems/Statistics-Trends-and-Reports/'\n",
    "penet = penet + 'MCRAdvPartDEnrolData/Downloads'\n",
    "write_path = 'C://Users//matthew//Downloads'\n",
    "write_path = 'C://Users//mjbaker//Downloads'\n",
    "\n",
    "for item in handles_1:\n",
    "    r = requests.get(penet+item)\n",
    "    os.makedirs(os.path.dirname(write_path + item), exist_ok=True)\n",
    "    with open(write_path + item, 'wb') as code:\n",
    "        code.write(r.content)\n",
    "    time.sleep(2)"
   ]
  },
  {
   "cell_type": "code",
   "execution_count": 12,
   "metadata": {},
   "outputs": [],
   "source": [
    "cbo_link = ''\n",
    "cho_link = 'https://www.cms.gov/Research-Statistics-Data-and-Systems/Statistics-Trends-and-Reports/'\n",
    "cho_link = cho_link + 'MCRAdvPartDEnrolData/Downloads/2018/Dec/SCC-Enrollment-MA-Alt-2018-12.zip'\n",
    "\n",
    "cho_path = 'C://Users//mjbaker//Downloads//choices.zip'\n",
    "\n",
    "r = requests.get(cho_link)\n",
    "with open(cho_path, 'wb') as code:\n",
    "    code.write(r.content)"
   ]
  },
  {
   "cell_type": "markdown",
   "metadata": {},
   "source": [
    "# Extracting Zip Files and Making DataFrames"
   ]
  },
  {
   "cell_type": "code",
   "execution_count": 13,
   "metadata": {},
   "outputs": [
    {
     "name": "stdout",
     "output_type": "stream",
     "text": [
      "['Read_Me_SCC_Enrollment_MA_2018_Alternative_File.txt', 'Read_Me_SC_Penetration_MA.txt', 'SCC_Enrollment_MA_Alt_2018_12.csv', 'State_County_Penetration_MA_2018_12.csv']\n"
     ]
    }
   ],
   "source": [
    "localdir = 'C://Users//mjbaker//Downloads//medicare//'\n",
    "\n",
    "for file in [pen_path, cho_path]:\n",
    "    with ZipFile(file, 'r') as zip_ref:\n",
    "        zip_ref.extractall(localdir)\n",
    "    \n",
    "contents = os.listdir(localdir)\n",
    "print(contents)"
   ]
  },
  {
   "cell_type": "code",
   "execution_count": 29,
   "metadata": {},
   "outputs": [],
   "source": [
    "chodata = pd.read_csv(localdir + contents[2])\n",
    "pendata = pd.read_csv(localdir + contents[3])"
   ]
  },
  {
   "cell_type": "code",
   "execution_count": 30,
   "metadata": {},
   "outputs": [
    {
     "data": {
      "text/html": [
       "<div>\n",
       "<style scoped>\n",
       "    .dataframe tbody tr th:only-of-type {\n",
       "        vertical-align: middle;\n",
       "    }\n",
       "\n",
       "    .dataframe tbody tr th {\n",
       "        vertical-align: top;\n",
       "    }\n",
       "\n",
       "    .dataframe thead th {\n",
       "        text-align: right;\n",
       "    }\n",
       "</style>\n",
       "<table border=\"1\" class=\"dataframe\">\n",
       "  <thead>\n",
       "    <tr style=\"text-align: right;\">\n",
       "      <th></th>\n",
       "      <th>County</th>\n",
       "      <th>State</th>\n",
       "      <th>Contract ID</th>\n",
       "      <th>Organization Name</th>\n",
       "      <th>Organization Type</th>\n",
       "      <th>Plan Type</th>\n",
       "      <th>SSA Code</th>\n",
       "      <th>FIPS Code</th>\n",
       "      <th>Enrolled</th>\n",
       "    </tr>\n",
       "  </thead>\n",
       "  <tbody>\n",
       "    <tr>\n",
       "      <th>0</th>\n",
       "      <td>Autauga</td>\n",
       "      <td>AL</td>\n",
       "      <td>H0104</td>\n",
       "      <td>BLUE CROSS AND BLUE SHIELD OF ALABAMA</td>\n",
       "      <td>Local CCP</td>\n",
       "      <td>Local PPO</td>\n",
       "      <td>1000</td>\n",
       "      <td>1001</td>\n",
       "      <td>1118.0</td>\n",
       "    </tr>\n",
       "    <tr>\n",
       "      <th>1</th>\n",
       "      <td>Autauga</td>\n",
       "      <td>AL</td>\n",
       "      <td>H0150</td>\n",
       "      <td>HEALTHSPRING LIFE &amp; HEALTH INSURANCE COMPANY</td>\n",
       "      <td>Local CCP</td>\n",
       "      <td>HMO/HMOPOS</td>\n",
       "      <td>1000</td>\n",
       "      <td>1001</td>\n",
       "      <td>534.0</td>\n",
       "    </tr>\n",
       "    <tr>\n",
       "      <th>2</th>\n",
       "      <td>Autauga</td>\n",
       "      <td>AL</td>\n",
       "      <td>H0154</td>\n",
       "      <td>VIVA HEALTH, INC.</td>\n",
       "      <td>Local CCP</td>\n",
       "      <td>HMO/HMOPOS</td>\n",
       "      <td>1000</td>\n",
       "      <td>1001</td>\n",
       "      <td>1459.0</td>\n",
       "    </tr>\n",
       "    <tr>\n",
       "      <th>3</th>\n",
       "      <td>Autauga</td>\n",
       "      <td>AL</td>\n",
       "      <td>H2001</td>\n",
       "      <td>SIERRA HEALTH AND LIFE INSURANCE COMPANY, INC.</td>\n",
       "      <td>Local CCP</td>\n",
       "      <td>Local PPO</td>\n",
       "      <td>1000</td>\n",
       "      <td>1001</td>\n",
       "      <td>570.0</td>\n",
       "    </tr>\n",
       "    <tr>\n",
       "      <th>4</th>\n",
       "      <td>Autauga</td>\n",
       "      <td>AL</td>\n",
       "      <td>H2802</td>\n",
       "      <td>UNITEDHEALTHCARE OF THE MIDLANDS, INC.</td>\n",
       "      <td>Local CCP</td>\n",
       "      <td>HMO/HMOPOS</td>\n",
       "      <td>1000</td>\n",
       "      <td>1001</td>\n",
       "      <td>1015.0</td>\n",
       "    </tr>\n",
       "  </tbody>\n",
       "</table>\n",
       "</div>"
      ],
      "text/plain": [
       "    County State Contract ID                               Organization Name  \\\n",
       "0  Autauga    AL       H0104           BLUE CROSS AND BLUE SHIELD OF ALABAMA   \n",
       "1  Autauga    AL       H0150    HEALTHSPRING LIFE & HEALTH INSURANCE COMPANY   \n",
       "2  Autauga    AL       H0154                               VIVA HEALTH, INC.   \n",
       "3  Autauga    AL       H2001  SIERRA HEALTH AND LIFE INSURANCE COMPANY, INC.   \n",
       "4  Autauga    AL       H2802          UNITEDHEALTHCARE OF THE MIDLANDS, INC.   \n",
       "\n",
       "  Organization Type   Plan Type  SSA Code  FIPS Code  Enrolled  \n",
       "0         Local CCP   Local PPO      1000       1001    1118.0  \n",
       "1         Local CCP  HMO/HMOPOS      1000       1001     534.0  \n",
       "2         Local CCP  HMO/HMOPOS      1000       1001    1459.0  \n",
       "3         Local CCP   Local PPO      1000       1001     570.0  \n",
       "4         Local CCP  HMO/HMOPOS      1000       1001    1015.0  "
      ]
     },
     "execution_count": 30,
     "metadata": {},
     "output_type": "execute_result"
    }
   ],
   "source": [
    "chodata.head()"
   ]
  },
  {
   "cell_type": "code",
   "execution_count": 31,
   "metadata": {},
   "outputs": [
    {
     "data": {
      "text/html": [
       "<div>\n",
       "<style scoped>\n",
       "    .dataframe tbody tr th:only-of-type {\n",
       "        vertical-align: middle;\n",
       "    }\n",
       "\n",
       "    .dataframe tbody tr th {\n",
       "        vertical-align: top;\n",
       "    }\n",
       "\n",
       "    .dataframe thead th {\n",
       "        text-align: right;\n",
       "    }\n",
       "</style>\n",
       "<table border=\"1\" class=\"dataframe\">\n",
       "  <thead>\n",
       "    <tr style=\"text-align: right;\">\n",
       "      <th></th>\n",
       "      <th>State Name</th>\n",
       "      <th>County Name</th>\n",
       "      <th>FIPSST</th>\n",
       "      <th>FIPSCNTY</th>\n",
       "      <th>FIPS</th>\n",
       "      <th>SSAST</th>\n",
       "      <th>SSACNTY</th>\n",
       "      <th>SSA</th>\n",
       "      <th>Eligibles</th>\n",
       "      <th>Enrolled</th>\n",
       "      <th>Penetration</th>\n",
       "    </tr>\n",
       "  </thead>\n",
       "  <tbody>\n",
       "    <tr>\n",
       "      <th>0</th>\n",
       "      <td>Alabama</td>\n",
       "      <td>Autauga</td>\n",
       "      <td>1</td>\n",
       "      <td>1.0</td>\n",
       "      <td>1001</td>\n",
       "      <td>1.0</td>\n",
       "      <td>0.0</td>\n",
       "      <td>1000.0</td>\n",
       "      <td>11,439</td>\n",
       "      <td>5,044</td>\n",
       "      <td>44.09%</td>\n",
       "    </tr>\n",
       "    <tr>\n",
       "      <th>1</th>\n",
       "      <td>Alabama</td>\n",
       "      <td>Baldwin</td>\n",
       "      <td>1</td>\n",
       "      <td>3.0</td>\n",
       "      <td>1003</td>\n",
       "      <td>1.0</td>\n",
       "      <td>10.0</td>\n",
       "      <td>1010.0</td>\n",
       "      <td>54,145</td>\n",
       "      <td>22,775</td>\n",
       "      <td>42.06%</td>\n",
       "    </tr>\n",
       "    <tr>\n",
       "      <th>2</th>\n",
       "      <td>Alabama</td>\n",
       "      <td>Barbour</td>\n",
       "      <td>1</td>\n",
       "      <td>5.0</td>\n",
       "      <td>1005</td>\n",
       "      <td>1.0</td>\n",
       "      <td>20.0</td>\n",
       "      <td>1020.0</td>\n",
       "      <td>6,681</td>\n",
       "      <td>2,551</td>\n",
       "      <td>38.18%</td>\n",
       "    </tr>\n",
       "    <tr>\n",
       "      <th>3</th>\n",
       "      <td>Alabama</td>\n",
       "      <td>Bibb</td>\n",
       "      <td>1</td>\n",
       "      <td>7.0</td>\n",
       "      <td>1007</td>\n",
       "      <td>1.0</td>\n",
       "      <td>30.0</td>\n",
       "      <td>1030.0</td>\n",
       "      <td>5,128</td>\n",
       "      <td>2,510</td>\n",
       "      <td>48.95%</td>\n",
       "    </tr>\n",
       "    <tr>\n",
       "      <th>4</th>\n",
       "      <td>Alabama</td>\n",
       "      <td>Blount</td>\n",
       "      <td>1</td>\n",
       "      <td>9.0</td>\n",
       "      <td>1009</td>\n",
       "      <td>1.0</td>\n",
       "      <td>40.0</td>\n",
       "      <td>1040.0</td>\n",
       "      <td>13,175</td>\n",
       "      <td>6,672</td>\n",
       "      <td>50.64%</td>\n",
       "    </tr>\n",
       "  </tbody>\n",
       "</table>\n",
       "</div>"
      ],
      "text/plain": [
       "  State Name County Name  FIPSST  FIPSCNTY  FIPS  SSAST  SSACNTY     SSA  \\\n",
       "0    Alabama     Autauga       1       1.0  1001    1.0      0.0  1000.0   \n",
       "1    Alabama     Baldwin       1       3.0  1003    1.0     10.0  1010.0   \n",
       "2    Alabama     Barbour       1       5.0  1005    1.0     20.0  1020.0   \n",
       "3    Alabama        Bibb       1       7.0  1007    1.0     30.0  1030.0   \n",
       "4    Alabama      Blount       1       9.0  1009    1.0     40.0  1040.0   \n",
       "\n",
       "  Eligibles Enrolled Penetration  \n",
       "0    11,439    5,044      44.09%  \n",
       "1    54,145   22,775      42.06%  \n",
       "2     6,681    2,551      38.18%  \n",
       "3     5,128    2,510      48.95%  \n",
       "4    13,175    6,672      50.64%  "
      ]
     },
     "execution_count": 31,
     "metadata": {},
     "output_type": "execute_result"
    }
   ],
   "source": [
    "pendata.head()"
   ]
  },
  {
   "cell_type": "code",
   "execution_count": 32,
   "metadata": {},
   "outputs": [],
   "source": [
    "for item in ['Eligibles', 'Enrolled', 'Penetration']:\n",
    "    newite = []\n",
    "    for thing in pendata[item]:\n",
    "        try:\n",
    "            thing = float(thing.replace(',','').replace('%',''))\n",
    "        except:\n",
    "            pass\n",
    "        newite.append(thing)\n",
    "    pendata[item] = newite"
   ]
  },
  {
   "cell_type": "code",
   "execution_count": 33,
   "metadata": {},
   "outputs": [
    {
     "data": {
      "text/html": [
       "<div>\n",
       "<style scoped>\n",
       "    .dataframe tbody tr th:only-of-type {\n",
       "        vertical-align: middle;\n",
       "    }\n",
       "\n",
       "    .dataframe tbody tr th {\n",
       "        vertical-align: top;\n",
       "    }\n",
       "\n",
       "    .dataframe thead th {\n",
       "        text-align: right;\n",
       "    }\n",
       "</style>\n",
       "<table border=\"1\" class=\"dataframe\">\n",
       "  <thead>\n",
       "    <tr style=\"text-align: right;\">\n",
       "      <th></th>\n",
       "      <th>FIPSST</th>\n",
       "      <th>FIPSCNTY</th>\n",
       "      <th>FIPS</th>\n",
       "      <th>SSAST</th>\n",
       "      <th>SSACNTY</th>\n",
       "      <th>SSA</th>\n",
       "      <th>Eligibles</th>\n",
       "      <th>Penetration</th>\n",
       "    </tr>\n",
       "  </thead>\n",
       "  <tbody>\n",
       "    <tr>\n",
       "      <th>count</th>\n",
       "      <td>3276.000000</td>\n",
       "      <td>3219.000000</td>\n",
       "      <td>3276.000000</td>\n",
       "      <td>3219.000000</td>\n",
       "      <td>3219.000000</td>\n",
       "      <td>3219.000000</td>\n",
       "      <td>3.276000e+03</td>\n",
       "      <td>3136.000000</td>\n",
       "    </tr>\n",
       "    <tr>\n",
       "      <th>mean</th>\n",
       "      <td>31.411783</td>\n",
       "      <td>102.960236</td>\n",
       "      <td>30924.102564</td>\n",
       "      <td>27.954334</td>\n",
       "      <td>415.614166</td>\n",
       "      <td>28369.947810</td>\n",
       "      <td>1.944435e+04</td>\n",
       "      <td>25.921087</td>\n",
       "    </tr>\n",
       "    <tr>\n",
       "      <th>std</th>\n",
       "      <td>16.412949</td>\n",
       "      <td>106.961098</td>\n",
       "      <td>16702.469987</td>\n",
       "      <td>14.701614</td>\n",
       "      <td>281.116690</td>\n",
       "      <td>14706.328267</td>\n",
       "      <td>5.327313e+04</td>\n",
       "      <td>15.438386</td>\n",
       "    </tr>\n",
       "    <tr>\n",
       "      <th>min</th>\n",
       "      <td>1.000000</td>\n",
       "      <td>1.000000</td>\n",
       "      <td>1.000000</td>\n",
       "      <td>1.000000</td>\n",
       "      <td>0.000000</td>\n",
       "      <td>1000.000000</td>\n",
       "      <td>1.000000e+00</td>\n",
       "      <td>0.260000</td>\n",
       "    </tr>\n",
       "    <tr>\n",
       "      <th>25%</th>\n",
       "      <td>19.000000</td>\n",
       "      <td>35.000000</td>\n",
       "      <td>18138.500000</td>\n",
       "      <td>16.000000</td>\n",
       "      <td>170.000000</td>\n",
       "      <td>16195.000000</td>\n",
       "      <td>2.600250e+03</td>\n",
       "      <td>14.885000</td>\n",
       "    </tr>\n",
       "    <tr>\n",
       "      <th>50%</th>\n",
       "      <td>30.000000</td>\n",
       "      <td>79.000000</td>\n",
       "      <td>29206.000000</td>\n",
       "      <td>27.000000</td>\n",
       "      <td>380.000000</td>\n",
       "      <td>27150.000000</td>\n",
       "      <td>6.126000e+03</td>\n",
       "      <td>24.515000</td>\n",
       "    </tr>\n",
       "    <tr>\n",
       "      <th>75%</th>\n",
       "      <td>46.000000</td>\n",
       "      <td>133.000000</td>\n",
       "      <td>46085.500000</td>\n",
       "      <td>42.000000</td>\n",
       "      <td>631.000000</td>\n",
       "      <td>42235.000000</td>\n",
       "      <td>1.525550e+04</td>\n",
       "      <td>34.400000</td>\n",
       "    </tr>\n",
       "    <tr>\n",
       "      <th>max</th>\n",
       "      <td>99.000000</td>\n",
       "      <td>840.000000</td>\n",
       "      <td>78030.000000</td>\n",
       "      <td>53.000000</td>\n",
       "      <td>996.000000</td>\n",
       "      <td>53220.000000</td>\n",
       "      <td>1.530126e+06</td>\n",
       "      <td>79.280000</td>\n",
       "    </tr>\n",
       "  </tbody>\n",
       "</table>\n",
       "</div>"
      ],
      "text/plain": [
       "            FIPSST     FIPSCNTY          FIPS        SSAST      SSACNTY  \\\n",
       "count  3276.000000  3219.000000   3276.000000  3219.000000  3219.000000   \n",
       "mean     31.411783   102.960236  30924.102564    27.954334   415.614166   \n",
       "std      16.412949   106.961098  16702.469987    14.701614   281.116690   \n",
       "min       1.000000     1.000000      1.000000     1.000000     0.000000   \n",
       "25%      19.000000    35.000000  18138.500000    16.000000   170.000000   \n",
       "50%      30.000000    79.000000  29206.000000    27.000000   380.000000   \n",
       "75%      46.000000   133.000000  46085.500000    42.000000   631.000000   \n",
       "max      99.000000   840.000000  78030.000000    53.000000   996.000000   \n",
       "\n",
       "                SSA     Eligibles  Penetration  \n",
       "count   3219.000000  3.276000e+03  3136.000000  \n",
       "mean   28369.947810  1.944435e+04    25.921087  \n",
       "std    14706.328267  5.327313e+04    15.438386  \n",
       "min     1000.000000  1.000000e+00     0.260000  \n",
       "25%    16195.000000  2.600250e+03    14.885000  \n",
       "50%    27150.000000  6.126000e+03    24.515000  \n",
       "75%    42235.000000  1.525550e+04    34.400000  \n",
       "max    53220.000000  1.530126e+06    79.280000  "
      ]
     },
     "execution_count": 33,
     "metadata": {},
     "output_type": "execute_result"
    }
   ],
   "source": [
    "pendata.describe()"
   ]
  },
  {
   "cell_type": "code",
   "execution_count": 34,
   "metadata": {},
   "outputs": [
    {
     "data": {
      "text/plain": [
       "<matplotlib.axes._subplots.AxesSubplot at 0xd790eb8>"
      ]
     },
     "execution_count": 34,
     "metadata": {},
     "output_type": "execute_result"
    },
    {
     "data": {
      "image/png": "[encoded data removed]",
      "text/plain": [
       "<Figure size 432x288 with 1 Axes>"
      ]
     },
     "metadata": {
      "needs_background": "light"
     },
     "output_type": "display_data"
    }
   ],
   "source": [
    "pendata['Penetration'].hist()"
   ]
  },
  {
   "cell_type": "markdown",
   "metadata": {},
   "source": [
    "Counties that are in chodata but not in pendata:"
   ]
  },
  {
   "cell_type": "code",
   "execution_count": 35,
   "metadata": {},
   "outputs": [
    {
     "data": {
      "text/plain": [
       "{'Agana', 'Leasina'}"
      ]
     },
     "execution_count": 35,
     "metadata": {},
     "output_type": "execute_result"
    }
   ],
   "source": [
    "set(chodata['County']) - set(pendata['County Name'])"
   ]
  },
  {
   "cell_type": "markdown",
   "metadata": {},
   "source": [
    "Counties that are in pendata but not in chodata...these really can't be used!"
   ]
  },
  {
   "cell_type": "code",
   "execution_count": 36,
   "metadata": {},
   "outputs": [
    {
     "name": "stdout",
     "output_type": "stream",
     "text": [
      "McCone Eureka Dundy Aleutians East Wibaux Hooker Antelope Bethel Alpine Glacier Kenedy Skagway-Hoonah-Angoon Keya Paha Arthur Esmeralda North Slope Northwest Arctic Yukon-Koyukuk Cimarron Ziebach Furnas Hayes Hodgeman Kearny Trego Denali Mountrail Lander Kimball Hitchcock Cherry Kodiak Island Pershing Nome St. Thomas DeBaca Lake and Peninsula Red Willow Southeast Fairbanks Prince of Wales-Outer Ketchikan Frontier McKenzie Niobrara Haines Dillingham Ness Sitka Greeley St. John Converse Pending County Designation Thayer Washakie Goshen Divide Hinsdale Piute Aleutians West Yakutat Chase Baca Banner Bristol Bay Ketchikan Gateway Garden Loving Loup Shoshone Valdez-Cordova Wallace Wrangell-Petersburg Daniels "
     ]
    }
   ],
   "source": [
    "setdif = set(pendata['County Name']) - set(chodata['County'])\n",
    "for item in setdif:\n",
    "    print(item, end=' ')"
   ]
  },
  {
   "cell_type": "markdown",
   "metadata": {},
   "source": [
    "Build a two-letter state code for merging data:"
   ]
  },
  {
   "cell_type": "code",
   "execution_count": 37,
   "metadata": {},
   "outputs": [],
   "source": [
    "state_match = {'Alabama':'AL', 'Alaska':'AK', 'American Samoa':'AS', 'Arizona':'AZ', 'Arkansas':'AR', 'California':'CA',\n",
    " 'Colorado':'CO', 'Connecticut':'CT', 'Delaware':'DE', 'District Of Columbia':'DC',\n",
    " 'Florida':'FL', 'Georgia':'GA', 'Guam':'GU', 'Hawaii':'HI', 'Idaho':'ID', 'Illinois':'IL',\n",
    " 'Indiana':'IN', 'Iowa':'IA', 'Kansas':'KS', 'Kentucky':'KY', 'Louisiana':'LA', 'Maine':'ME', 'Maryland':'MD', \n",
    " 'Massachusetts':'MA',\n",
    " 'Michigan':'MI', 'Minnesota':'MN', 'Mississippi':'MS', 'Missouri':'MO', 'Montana':'MT', 'Nebraska':'NE', 'Nevada':'NV', \n",
    " 'New Hampshire':'NH', 'New Jersey':'NJ', 'New Mexico':'NM',\n",
    " 'New York':'NY', 'North Carolina':'NC', 'North Dakota':'ND', 'Ohio':'OH',\n",
    " 'Oklahoma':'OK', 'Oregon':'OR', 'Pending State Designation':'GB', 'Pennsylvania':'PA', 'Puerto Rico':'PR', \n",
    " 'Rhode Island':'RI', 'South Carolina':'SC',\n",
    " 'South Dakota':'SD', 'Tennessee':'TN', 'Texas':'TX', 'Utah':'UT', 'Vermont':'VT', 'Virgin Islands':'VI',\n",
    " 'Virginia':'VA',\n",
    " 'Wake Island':'QW', 'Washington':'WA', 'Washington D.C.':'DC', 'West Virginia':'WV', 'Wisconsin':'WI', 'Wyoming':'WY'}\n"
   ]
  },
  {
   "cell_type": "code",
   "execution_count": 38,
   "metadata": {},
   "outputs": [],
   "source": [
    "pendata['State'] = pendata['State Name'].map(state_match)"
   ]
  },
  {
   "cell_type": "code",
   "execution_count": 39,
   "metadata": {},
   "outputs": [],
   "source": [
    "data = pd.merge(pendata, chodata, left_on=['State', 'County Name'], \n",
    "                right_on=['State', 'County'], how='right', indicator=True )"
   ]
  },
  {
   "cell_type": "code",
   "execution_count": 40,
   "metadata": {},
   "outputs": [
    {
     "data": {
      "text/html": [
       "<div>\n",
       "<style scoped>\n",
       "    .dataframe tbody tr th:only-of-type {\n",
       "        vertical-align: middle;\n",
       "    }\n",
       "\n",
       "    .dataframe tbody tr th {\n",
       "        vertical-align: top;\n",
       "    }\n",
       "\n",
       "    .dataframe thead th {\n",
       "        text-align: right;\n",
       "    }\n",
       "</style>\n",
       "<table border=\"1\" class=\"dataframe\">\n",
       "  <thead>\n",
       "    <tr style=\"text-align: right;\">\n",
       "      <th></th>\n",
       "      <th>County</th>\n",
       "      <th>State</th>\n",
       "    </tr>\n",
       "  </thead>\n",
       "  <tbody>\n",
       "    <tr>\n",
       "      <th>27263</th>\n",
       "      <td>Leasina</td>\n",
       "      <td>AS</td>\n",
       "    </tr>\n",
       "    <tr>\n",
       "      <th>27264</th>\n",
       "      <td>Agana</td>\n",
       "      <td>GU</td>\n",
       "    </tr>\n",
       "  </tbody>\n",
       "</table>\n",
       "</div>"
      ],
      "text/plain": [
       "        County State\n",
       "27263  Leasina    AS\n",
       "27264    Agana    GU"
      ]
     },
     "execution_count": 40,
     "metadata": {},
     "output_type": "execute_result"
    }
   ],
   "source": [
    "data[['County', 'State']].loc[data['_merge'] == 'right_only'].head()"
   ]
  },
  {
   "cell_type": "code",
   "execution_count": 41,
   "metadata": {},
   "outputs": [],
   "source": [
    "data['penet'] = data['Penetration'] / 100\n",
    "data['share'] = data['Enrolled_y'] / data['Enrolled_x']"
   ]
  },
  {
   "cell_type": "markdown",
   "metadata": {},
   "source": [
    "Now, we want to generate some group variables to see how they look. The first thing to do is..."
   ]
  },
  {
   "cell_type": "code",
   "execution_count": 42,
   "metadata": {},
   "outputs": [
    {
     "data": {
      "text/plain": [
       "count     27263.0\n",
       "unique    25558.0\n",
       "top           0.5\n",
       "freq         13.0\n",
       "Name: share, dtype: float64"
      ]
     },
     "execution_count": 42,
     "metadata": {},
     "output_type": "execute_result"
    }
   ],
   "source": [
    "data['share'].describe()"
   ]
  },
  {
   "cell_type": "code",
   "execution_count": 43,
   "metadata": {},
   "outputs": [],
   "source": [
    "object_holders = list(data.select_dtypes(include=['object']).columns)"
   ]
  },
  {
   "cell_type": "code",
   "execution_count": 44,
   "metadata": {},
   "outputs": [],
   "source": [
    "for item in object_holders:\n",
    "    data[item] = data[item].astype(str)"
   ]
  },
  {
   "cell_type": "code",
   "execution_count": 47,
   "metadata": {},
   "outputs": [
    {
     "data": {
      "text/plain": [
       "{'1876 Cost',\n",
       " 'HCPP - 1833 Cost',\n",
       " 'HMO/HMOPOS',\n",
       " 'Local PPO',\n",
       " 'MSA',\n",
       " 'Medicare-Medicaid Plan HMO/HMOPOS',\n",
       " 'National PACE',\n",
       " 'PFFS',\n",
       " 'Regional PPO'}"
      ]
     },
     "execution_count": 47,
     "metadata": {},
     "output_type": "execute_result"
    }
   ],
   "source": [
    "set(data['Plan Type'])"
   ]
  },
  {
   "cell_type": "code",
   "execution_count": 45,
   "metadata": {
    "scrolled": true
   },
   "outputs": [],
   "source": [
    "data.to_stata('C://Users//mjbaker//Downloads//tempstuff//medishare.dta')"
   ]
  },
  {
   "cell_type": "code",
   "execution_count": null,
   "metadata": {},
   "outputs": [],
   "source": []
  }
 ],
 "metadata": {
  "kernelspec": {
   "display_name": "Python 3",
   "language": "python",
   "name": "python3"
  },
  "language_info": {
   "codemirror_mode": {
    "name": "ipython",
    "version": 3
   },
   "file_extension": ".py",
   "mimetype": "text/x-python",
   "name": "python",
   "nbconvert_exporter": "python",
   "pygments_lexer": "ipython3",
   "version": "3.6.6"
  }
 },
 "nbformat": 4,
 "nbformat_minor": 2
}
