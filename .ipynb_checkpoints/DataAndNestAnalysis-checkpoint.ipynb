{
 "cells": [
  {
   "cell_type": "markdown",
   "id": "57cf1eed",
   "metadata": {},
   "source": [
    "# Choosing Nests\n",
    "\n",
    "We are using this paper to figure out how to choose nests in a nested multinomial logit. First things first relative choice probabilities of items in a given nest:\n",
    "\n",
    "$$\n",
    "r_A(A',B')=\\frac{p(A',A)}{p(B',A)}\n",
    "$$\n",
    "\n",
    "which means the likelihood that $A'$ is chosen divided by the likelihood that $B'$ is chosen when they are in the same nest.(These are empirical frequencies - while the paper distinguishes between these and theoretical, mean frequencies, we don't seem to need to do this.\n",
    "\n",
    "Note also what $p(A,B)$ is - it is the probability that $A$ is chosen (or some entity within this subset), given a choice has narrowed us down to $B$. \n",
    "\n",
    "\n",
    "\n",
    "The nest selection problem requires:\n",
    "\n",
    "$$\n",
    "\\min_{\\mathcal{Y} \\in \\mathcal{X}} D_1(\\mathcal{Y}) + D_2(\\mathcal{Y})\n",
    "$$\n",
    "\n",
    "where \n",
    "\n",
    "$$\n",
    "D_1(\\mathcal{Y}) = \\frac{\\sum_{Y\\in\\mathcal{Y}}\\sum_{A,B \\in \\mathcal{A},a,b\\in A \\cap B \\cap Y}\\log(r_A(a,b)) - \\log(r_B(a,b)))^2}{\\sum_{Y\\in\\mathcal{Y}}|\\{(A,B,a,b)|a,b \\in A \\cap B \\cap Y|\\}}\n",
    "$$\n",
    "\n",
    "\n",
    "and\n",
    "\n",
    "$$\n",
    "D_2(\\mathcal{Y}) = \\frac{\\sum_{Y,Y'\\in\\mathcal{Y}}\\sum_{A,B \\in \\mathcal{A}:A \\cap Y = B \\cap Y,A \\cap Y' = B\\cap Y'}\\log(r_A(Y,Y')) - \\log(r_B(Y,Y')))^2}{\\sum_{Y,Y'\\in\\mathcal{Y}}|\\{(A,B)|A\\cap Y=B \\cap Y,A \\cap Y'=B\\cap Y'\\}|}\n",
    "$$\n",
    "\n",
    "Let's see if we can make the rubber hit the road with some data on transit choice...the following import command takes a lot of time to load!"
   ]
  },
  {
   "cell_type": "code",
   "execution_count": null,
   "id": "4aacfb72",
   "metadata": {},
   "outputs": [],
   "source": [
    "import delimited \"C:\\Users\\mjbaker\\OneDrive - CUNY\\Documents\\github\\ShareFormNMNL\\Data\\nhgis0029_csv\\nhgis0029_ts_nominal_county.csv\", clear"
   ]
  },
  {
   "cell_type": "markdown",
   "id": "1b9a7f37",
   "metadata": {},
   "source": [
    "Dropping some unneeded/incomplete variables:"
   ]
  },
  {
   "cell_type": "code",
   "execution_count": 4,
   "id": "d35b31e6",
   "metadata": {},
   "outputs": [],
   "source": [
    "drop b78aa125 b78aa125m b78aa195 b78aa195m b86aa125m b86aa195m b86ab125m b86ab195m \n",
    "drop b86ac125m b86ac195m b84aa125m b84aa195m b84ab125m b84ab195m b84ac125m b84ac195m\n",
    "drop b84ad125m b84ad195m b84ae125m b84ae195m b84af125m b84af195m c53aa125m c53aa195m\n",
    "drop c53ab125m c53ab195m\n",
    "drop c53ac125m c53ac195m c53ad125m c53ad195m c53ae125m c53ae195m c53af125m c53af195m\n",
    "drop c53ag125m c53ag195m c53ah125m c53ah195m c53ai125m c53ai195m c53aj125m c53aj195m\n",
    "drop c53ak125m c53ak195m c53al125m c53al195m c53am125m c53am195m c53an125m c53an195m\n",
    "drop c53ao125m c53ao195m c53ap125m c53ap195m c53aq125m c53aq195m c53ar125m c53ar195m \n",
    "drop c53as125m c53as195m c53at125m c53at195m cw0aa125m cw0aa195m"
   ]
  },
  {
   "cell_type": "markdown",
   "id": "c4a7c5c4",
   "metadata": {},
   "source": [
    "Rearranging some data...for ease of reshaping data"
   ]
  },
  {
   "cell_type": "code",
   "execution_count": 5,
   "id": "69179824",
   "metadata": {},
   "outputs": [],
   "source": [
    "drop b84aa1970 b84ab1970 b84ac1970 b84ad1970 b84ae1970 b84af1970\n",
    "\n",
    "rename b86aa125 b86aa2010\n",
    "rename b86ab125 b86ab2010\n",
    "\n",
    "rename b86aa195 b86aa2020\n",
    "rename b86ab195 b86ab2020\n",
    "\n",
    "rename b86ac125 b86ac2010\n",
    "rename c53ac125 c53ac2010 \n",
    "rename c53ag125 c53ag2010 \n",
    "rename c53ak125 c53ak2010 \n",
    "rename c53ao125 c53ao2010 \n",
    "rename c53as125 c53as2010 \n",
    "\n",
    "rename b86ac195 b86ac2020\n",
    "rename c53ac195 c53ac2020\n",
    "rename c53ag195 c53ag2020\n",
    "rename c53ak195 c53ak2020\n",
    "rename c53ao195 c53ao2020\n",
    "rename c53as195 c53as2020\n",
    "\n",
    "rename b84aa125 b84aa2010\n",
    "rename c53ad125 c53ad2010\n",
    "rename c53ah125 c53ah2010\n",
    "rename c53al125 c53al2010\n",
    "rename c53ap125 c53ap2010 \n",
    "rename c53at125 c53at2010 \n",
    "\n",
    "rename b84aa195 b84aa2020\n",
    "rename c53ad195 c53ad2020\n",
    "rename c53ah195 c53ah2020\n",
    "rename c53al195 c53al2020\n",
    "rename c53ap195 c53ap2020 \n",
    "\n",
    "rename b84ab125 b84ab2010\n",
    "rename c53ae125 c53ae2010\n",
    "rename c53ai125 c53ai2010\n",
    "rename c53am125 c53am2010\n",
    "rename c53aq125 c53aq2010 \n",
    "rename cw0aa125 cw0aa2010\n",
    "\n",
    "rename b84ab195 b84ab2020\n",
    "rename c53ae195 c53ae2020\n",
    "rename c53ai195 c53ai2020\n",
    "rename c53am195 c53am2020\n",
    "rename c53aq195 c53aq2020 \n",
    "rename cw0aa195 cw0aa2020\n",
    "\n",
    "rename b84ac125 b84ac2010\n",
    "rename c53af125 c53af2010\n",
    "rename c53aj125 c53aj2010\n",
    "rename c53an125 c53an2010\n",
    "rename c53ar125 c53ar2010 \n",
    "\n",
    "rename b84ad125 b84ad2010\n",
    "rename b84ae125 b84ae2010\n",
    "rename b84af125 b84af2010\n",
    "\n",
    "rename b84ad195 b84ad2020\n",
    "rename b84ae195 b84ae2020\n",
    "rename b84af195 b84af2020\n",
    "\n",
    "rename c53aa125 c53aa2010\n",
    "rename c53ab125 c53ab2010\n",
    "\n",
    "rename c53aa195 c53aa2020\n",
    "rename c53ab195 c53ab2020\n",
    "\n",
    "rename b84ac195 b84ac2020\n",
    "rename c53af195 c53af2020\n",
    "rename c53aj195 c53aj2020\n",
    "rename c53an195 c53an2020\n",
    "rename c53ar195 c53ar2020 \n",
    "rename c53at195 c53at2020"
   ]
  },
  {
   "cell_type": "code",
   "execution_count": 8,
   "id": "1dfca92e",
   "metadata": {},
   "outputs": [
    {
     "name": "stdout",
     "output_type": "stream",
     "text": [
      "\n",
      "     +------------------------------------------------------------+\n",
      "  1. |         county | statec~e |               geography | year |\n",
      "     | Baldwin County |       AL | Baldwin County, Alabama | 2005 |\n",
      "     |------------------------------------------------------------|\n",
      "     |                                 class     |     share      |\n",
      "     |                           Drive Alone     |      78.2      |\n",
      "     +------------------------------------------------------------+\n",
      "\n",
      "     +------------------------------------------------------------+\n",
      "  2. |         county | statec~e |               geography | year |\n",
      "     | Baldwin County |       AL | Baldwin County, Alabama | 2005 |\n",
      "     |------------------------------------------------------------|\n",
      "     |                                 class     |     share      |\n",
      "     |               Carpool - One Passenger     |      12.6      |\n",
      "     +------------------------------------------------------------+\n",
      "\n",
      "     +------------------------------------------------------------+\n",
      "  3. |         county | statec~e |               geography | year |\n",
      "     | Baldwin County |       AL | Baldwin County, Alabama | 2005 |\n",
      "     |------------------------------------------------------------|\n",
      "     |                                 class     |     share      |\n",
      "     |              Carpool - Two Passengers     |      10.1      |\n",
      "     +------------------------------------------------------------+\n",
      "\n",
      "     +------------------------------------------------------------+\n",
      "  4. |         county | statec~e |               geography | year |\n",
      "     | Baldwin County |       AL | Baldwin County, Alabama | 2005 |\n",
      "     |------------------------------------------------------------|\n",
      "     |                                 class     |     share      |\n",
      "     |            Carpool - Three Passengers     |        .8      |\n",
      "     +------------------------------------------------------------+\n",
      "\n",
      "     +------------------------------------------------------------+\n",
      "  5. |         county | statec~e |               geography | year |\n",
      "     | Baldwin County |       AL | Baldwin County, Alabama | 2005 |\n",
      "     |------------------------------------------------------------|\n",
      "     |                                 class     |     share      |\n",
      "     |     Carpool - Four or More Passengers     |       1.7      |\n",
      "     +------------------------------------------------------------+\n",
      "\n",
      "     +------------------------------------------------------------+\n",
      "  6. |         county | statec~e |               geography | year |\n",
      "     | Baldwin County |       AL | Baldwin County, Alabama | 2005 |\n",
      "     |------------------------------------------------------------|\n",
      "     |                                 class     |     share      |\n",
      "     |                        Public Transit     |        .1      |\n",
      "     +------------------------------------------------------------+\n",
      "\n",
      "     +------------------------------------------------------------+\n",
      "  7. |         county | statec~e |               geography | year |\n",
      "     | Baldwin County |       AL | Baldwin County, Alabama | 2005 |\n",
      "     |------------------------------------------------------------|\n",
      "     |                                 class     |     share      |\n",
      "     |                                  Walk     |       2.8      |\n",
      "     +------------------------------------------------------------+\n",
      "\n",
      "     +------------------------------------------------------------+\n",
      "  8. |         county | statec~e |               geography | year |\n",
      "     | Baldwin County |       AL | Baldwin County, Alabama | 2005 |\n",
      "     |------------------------------------------------------------|\n",
      "     |                                 class     |     share      |\n",
      "     |                               Bicycle     |         0      |\n",
      "     +------------------------------------------------------------+\n",
      "\n",
      "     +------------------------------------------------------------+\n",
      "  9. |         county | statec~e |               geography | year |\n",
      "     | Baldwin County |       AL | Baldwin County, Alabama | 2005 |\n",
      "     |------------------------------------------------------------|\n",
      "     |                                 class     |     share      |\n",
      "     |                   Taxi or Other Means     |       2.4      |\n",
      "     +------------------------------------------------------------+\n",
      "\n",
      "     +------------------------------------------------------------+\n",
      " 10. |         county | statec~e |               geography | year |\n",
      "     | Baldwin County |       AL | Baldwin County, Alabama | 2005 |\n",
      "     |------------------------------------------------------------|\n",
      "     |                                 class     |     share      |\n",
      "     |                        Worked at Home     |         4      |\n",
      "     +------------------------------------------------------------+\n"
     ]
    }
   ],
   "source": [
    "list county statecode geography year class share in 1/10"
   ]
  },
  {
   "cell_type": "markdown",
   "id": "dcbf8350",
   "metadata": {},
   "source": [
    "One question - should we have a decision to participate in the labor force as part of this transit decision? If so, we would need to know how bit the labor force is, if it is not already in our data..."
   ]
  },
  {
   "cell_type": "code",
   "execution_count": 9,
   "id": "6c4f0a86",
   "metadata": {},
   "outputs": [],
   "source": [
    "bysort year state county: egen foo = total(share)"
   ]
  },
  {
   "cell_type": "code",
   "execution_count": 11,
   "id": "7dba6b36",
   "metadata": {},
   "outputs": [],
   "source": [
    "bysort year state county: gen last = _n == _N"
   ]
  },
  {
   "cell_type": "code",
   "execution_count": null,
   "id": "ef3ae6b6",
   "metadata": {},
   "outputs": [
    {
     "name": "stdout",
     "output_type": "stream",
     "text": [
      "(bin=38, start=0, width=3.2289475)\n"
     ]
    }
   ],
   "source": [
    "hist foo if last"
   ]
  },
  {
   "cell_type": "code",
   "execution_count": null,
   "id": "2a903cf6",
   "metadata": {},
   "outputs": [],
   "source": []
  }
 ],
 "metadata": {
  "kernelspec": {
   "display_name": "Stata",
   "language": "stata",
   "name": "stata"
  },
  "language_info": {
   "codemirror_mode": "stata",
   "file_extension": ".do",
   "mimetype": "text/x-stata",
   "name": "stata",
   "version": "15.1"
  }
 },
 "nbformat": 4,
 "nbformat_minor": 5
}
